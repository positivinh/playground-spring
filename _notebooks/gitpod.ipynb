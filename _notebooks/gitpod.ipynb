{
 "cells": [
  {
   "cell_type": "markdown",
   "source": [
    "# GitPod\n",
    "\n",
    "## Set up java version in workspace\n",
    "\n",
    "- https://www.gitpod.io/docs/introduction/languages/java\n",
    "\n",
    "Add a file `.gitpod.Dockerfile`\n",
    "\n",
    "```yaml\n",
    "FROM gitpod/workspace-full\n",
    "\n",
    "USER gitpod\n",
    "\n",
    "RUN bash -c \". /home/gitpod/.sdkman/bin/sdkman-init.sh && \\\n",
    "sdk install java 17.0.7-tem && \\\n",
    "sdk default java 17.0.7-tem\"\n",
    "```\n",
    "\n",
    "## Configuration file `.gitpod.yml`\n",
    "\n",
    "- https://www.gitpod.io/docs/references/gitpod-yml\n",
    "\n",
    "## Tasks\n",
    "\n",
    "- https://www.gitpod.io/docs/configure/workspaces/tasks\n",
    "\n"
   ],
   "metadata": {
    "collapsed": false
   }
  },
  {
   "cell_type": "markdown",
   "source": [],
   "metadata": {
    "collapsed": false
   }
  }
 ],
 "metadata": {
  "kernelspec": {
   "display_name": "Kotlin",
   "language": "kotlin",
   "name": "kotlin"
  },
  "language_info": {
   "name": "kotlin",
   "version": "1.8.20",
   "mimetype": "text/x-kotlin",
   "file_extension": ".kt",
   "pygments_lexer": "kotlin",
   "codemirror_mode": "text/x-kotlin",
   "nbconvert_exporter": ""
  }
 },
 "nbformat": 4,
 "nbformat_minor": 0
}
